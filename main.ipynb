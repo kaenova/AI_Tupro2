{
 "cells": [
  {
   "cell_type": "markdown",
   "metadata": {},
   "source": []
  },
  {
   "cell_type": "markdown",
   "metadata": {},
   "source": [
    "# Import Libararies and Data"
   ]
  },
  {
   "cell_type": "code",
   "execution_count": 19,
   "metadata": {},
   "outputs": [
    {
     "data": {
      "text/html": "<div>\n<style scoped>\n    .dataframe tbody tr th:only-of-type {\n        vertical-align: middle;\n    }\n\n    .dataframe tbody tr th {\n        vertical-align: top;\n    }\n\n    .dataframe thead th {\n        text-align: right;\n    }\n</style>\n<table border=\"1\" class=\"dataframe\">\n  <thead>\n    <tr style=\"text-align: right;\">\n      <th></th>\n      <th>id</th>\n      <th>pelayanan</th>\n      <th>makanan</th>\n    </tr>\n  </thead>\n  <tbody>\n    <tr>\n      <th>0</th>\n      <td>1</td>\n      <td>58</td>\n      <td>7</td>\n    </tr>\n    <tr>\n      <th>1</th>\n      <td>2</td>\n      <td>54</td>\n      <td>1</td>\n    </tr>\n    <tr>\n      <th>2</th>\n      <td>3</td>\n      <td>98</td>\n      <td>2</td>\n    </tr>\n    <tr>\n      <th>3</th>\n      <td>4</td>\n      <td>52</td>\n      <td>4</td>\n    </tr>\n    <tr>\n      <th>4</th>\n      <td>5</td>\n      <td>11</td>\n      <td>4</td>\n    </tr>\n  </tbody>\n</table>\n</div>",
      "text/plain": "   id  pelayanan  makanan\n0   1         58        7\n1   2         54        1\n2   3         98        2\n3   4         52        4\n4   5         11        4"
     },
     "execution_count": 19,
     "metadata": {},
     "output_type": "execute_result"
    }
   ],
   "source": [
    "import pandas as pd\r\n",
    "\r\n",
    "df = pd.read_csv('restoran.csv')\r\n",
    "df.head()\r\n"
   ]
  },
  {
   "cell_type": "code",
   "execution_count": 18,
   "metadata": {},
   "outputs": [],
   "source": [
    "restoran_data  = []\r\n",
    "\r\n",
    "class restoran:\r\n",
    "    def __init__(self):\r\n",
    "        self.id_restoran = 0\r\n",
    "        self.pelayanan = 0\r\n",
    "        self.makanan = 0\r\n",
    "        \r\n",
    "        # Fuzzifikasi (Fuzzy Input)\r\n",
    "        self.makanan_enak = -1          # Range [7, 10]\r\n",
    "        self.makanan_tidakenak = -1     # Range [1, 4]\r\n",
    "        \r\n",
    "        self.pelayanan_baik = -1        # Range [90, 100]\r\n",
    "        self.pelayanan_biasa = -1       # Range [40, 60]\r\n",
    "        self.pelayanan_jelek = -1       # Range [1, 20]\r\n",
    "        \r\n",
    "        # Inferensi (Fuzzy Output)\r\n",
    "        self.bagus = []                 # Masukkan Semua Nilai Yang Mungkin untuk Bagus\r\n",
    "        self.buruk = []                 # Masukkan Semua Nilai Yang Mungkin untuk Buruk\r\n",
    "        self.bagus_akhir = 0            # Nilai Terkecil dari list Bagus\r\n",
    "        self.buruk_akhir = 0            # Nilai Terkecil dari list Buruk\r\n",
    "        \r\n",
    "        # Defuzzifikasi (Crisp Input)\r\n",
    "        self.nilai_akhir = 0\r\n",
    "        \r\n",
    "    def tampilData(self):\r\n",
    "        print('id restoran: {} \\n nilai pelayanan: {} \\n nilai makanan: {} \\n nilai akhir: {}'.format(self.id_restoran, self.pelayanan, self.makanan, self.nilai_akhir))\r\n",
    "        \r\n",
    "\r\n",
    "\r\n",
    "for i in range(len(df)):\r\n",
    "    restoran_temp = restoran()\r\n",
    "    restoran_temp.id_restoran = df.iloc[i][0]\r\n",
    "    restoran_temp.pelayanan = df.iloc[i][1]\r\n",
    "    restoran_temp.makanan = df.iloc[i][2]\r\n",
    "    restoran_data.append(restoran_temp)\r\n",
    "    \r\n",
    "        "
   ]
  },
  {
   "cell_type": "markdown",
   "metadata": {},
   "source": [
    "# Pengklasifikasian Crisp Input dan nilai μ serta melakukan Fuzzifikasi\r\n",
    "Kualitas pelayanan dapat dibagi menjadi\r\n",
    "- Baik  \r\n",
    "- Biasa  \r\n",
    "- Jelek   \r\n",
    "\r\n",
    "Kualitas Makanan\r\n",
    "- Enak  \r\n",
    "- Tidak Enak  \r\n",
    "\r\n",
    "Penilaian Restoran\r\n",
    "- Bagus\r\n",
    "- Buruk\r\n",
    "\r\n",
    "Dimana kedua hal tersebut memiliki Fungsi Keanggotaan yang sama yaitu trapesium.  \r\n",
    "Dengan nilai crisp tersebut kami membuat gambaran nilai μ yang akan kami buat seperti pada gambar di bawah:  \r\n",
    "Nanti Diperbaikin lagi :v   \r\n",
    "![μ Makanan](https://media.discordapp.net/attachments/527433841690804224/833354183208992808/unknown.png)\r\n",
    "![μ Pelayanan](https://media.discordapp.net/attachments/527433841690804224/833354894361493544/unknown.png)\r\n",
    "\r\n",
    "Sehingga akan menghailkan nilai hasil dari fuzzifikasi (fuzzi input)"
   ]
  },
  {
   "cell_type": "code",
   "execution_count": 21,
   "metadata": {},
   "outputs": [],
   "source": [
    "# masukkan kode untuk melakukan fuzzifikasi hingga menghasilkan nilai fuzzi input"
   ]
  },
  {
   "cell_type": "markdown",
   "metadata": {},
   "source": [
    "# Nilai Inferensi\r\n",
    "Untuk menghasilkan fuzzy output, kita harus melakukan terlebih dahulu Inferensi berdasarkan aturan-aturan yang sudah di atur.\r\n",
    "Aturan tersebut dapat dilihat seperti di bawah:  \r\n",
    "\r\n",
    "| Makanan \\ Pelayanan | Jelek | Biasa | Baik  |\r\n",
    "|-------------------|-------|-------|-------|\r\n",
    "| Tidak Enak        | Buruk | Buruk | Buruk |\r\n",
    "| Enak              | Buruk | Bagus | Bagus | "
   ]
  },
  {
   "cell_type": "code",
   "execution_count": 14,
   "metadata": {},
   "outputs": [],
   "source": [
    "# masukkan kdoe untuk melakukan inferensi berdasarkan aturan-aturan yang sudah di buat sehingga menghasilkan nilai fuzzy output"
   ]
  },
  {
   "cell_type": "markdown",
   "metadata": {},
   "source": [
    "# Defuzzifikasi\r\n",
    "Berdasrkan nilai yang didapat dari nilai inferensi sebelumnya, kita harus melakukan defuzzifikasi sehingga mendaptkan nilai yang diinginkan.  \r\n",
    "Dengan berdasarkan μ, kita mendapatkan nilai bilangan real dari 1 hingga 100.  \r\n",
    "![μ Defuzzifikasi](https://media.discordapp.net/attachments/527433841690804224/833355247853895730/unknown.png)"
   ]
  },
  {
   "cell_type": "code",
   "execution_count": 22,
   "metadata": {},
   "outputs": [],
   "source": [
    "# Masukkan kode defuzzifikasi sehingga mendapatkan nilai real"
   ]
  },
  {
   "cell_type": "markdown",
   "metadata": {},
   "source": [
    "# Ranking dan Output\r\n",
    "Berdasarkan nilai-nilai yang didapakan dari defuzzifikasi, kita dapat melakukan rangking untuk 10 besar restoran terbaik"
   ]
  },
  {
   "cell_type": "code",
   "execution_count": 16,
   "metadata": {},
   "outputs": [],
   "source": [
    "# Masukkan kode untuk me-rank dan membuat output file"
   ]
  },
  {
   "cell_type": "markdown",
   "metadata": {},
   "source": [
    "# Referensi dan Tools\r\n",
    "https://www.tablesgenerator.com/markdown_tables"
   ]
  }
 ],
 "metadata": {
  "kernelspec": {
   "display_name": "Python 3.9.2 64-bit",
   "name": "python392jvsc74a57bd0ac59ebe37160ed0dfa835113d9b8498d9f09ceb179beaac4002f036b9467c963"
  },
  "language_info": {
   "codemirror_mode": {
    "name": "ipython",
    "version": 3
   },
   "file_extension": ".py",
   "mimetype": "text/x-python",
   "name": "python",
   "nbconvert_exporter": "python",
   "pygments_lexer": "ipython3",
   "version": "3.9.2"
  },
  "metadata": {
   "interpreter": {
    "hash": "ac59ebe37160ed0dfa835113d9b8498d9f09ceb179beaac4002f036b9467c963"
   }
  },
  "orig_nbformat": 2
 },
 "nbformat": 4,
 "nbformat_minor": 2
}