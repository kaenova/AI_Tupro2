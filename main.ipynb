{
 "cells": [
  {
   "cell_type": "markdown",
   "metadata": {},
   "source": []
  },
  {
   "cell_type": "markdown",
   "metadata": {},
   "source": [
    "# Import Libararies and Data"
   ]
  },
  {
   "cell_type": "code",
   "execution_count": 42,
   "metadata": {},
   "outputs": [
    {
     "data": {
      "text/html": "<div>\n<style scoped>\n    .dataframe tbody tr th:only-of-type {\n        vertical-align: middle;\n    }\n\n    .dataframe tbody tr th {\n        vertical-align: top;\n    }\n\n    .dataframe thead th {\n        text-align: right;\n    }\n</style>\n<table border=\"1\" class=\"dataframe\">\n  <thead>\n    <tr style=\"text-align: right;\">\n      <th></th>\n      <th>id</th>\n      <th>pelayanan</th>\n      <th>makanan</th>\n    </tr>\n  </thead>\n  <tbody>\n    <tr>\n      <th>0</th>\n      <td>1</td>\n      <td>58</td>\n      <td>7</td>\n    </tr>\n    <tr>\n      <th>1</th>\n      <td>2</td>\n      <td>54</td>\n      <td>1</td>\n    </tr>\n    <tr>\n      <th>2</th>\n      <td>3</td>\n      <td>98</td>\n      <td>2</td>\n    </tr>\n    <tr>\n      <th>3</th>\n      <td>4</td>\n      <td>52</td>\n      <td>4</td>\n    </tr>\n    <tr>\n      <th>4</th>\n      <td>5</td>\n      <td>11</td>\n      <td>4</td>\n    </tr>\n  </tbody>\n</table>\n</div>",
      "text/plain": "   id  pelayanan  makanan\n0   1         58        7\n1   2         54        1\n2   3         98        2\n3   4         52        4\n4   5         11        4"
     },
     "execution_count": 42,
     "metadata": {},
     "output_type": "execute_result"
    }
   ],
   "source": [
    "import pandas as pd\r\n",
    "\r\n",
    "df = pd.read_csv('restoran.csv')\r\n",
    "df.head()\r\n"
   ]
  },
  {
   "cell_type": "code",
   "execution_count": 43,
   "metadata": {},
   "outputs": [],
   "source": [
    "restoran_data  = []\r\n",
    "\r\n",
    "class restoran:\r\n",
    "    def __init__(self):\r\n",
    "        self.id_restoran = 0\r\n",
    "        self.pelayanan = 0\r\n",
    "        self.makanan = 0\r\n",
    "        \r\n",
    "        # Fuzzifikasi (Fuzzy Input)\r\n",
    "        self.makanan_enak = -1          # Range [7, 10]\r\n",
    "        self.makanan_tidakenak = -1     # Range [1, 4]\r\n",
    "        \r\n",
    "        self.pelayanan_baik = -1        # Range [90, 100]\r\n",
    "        self.pelayanan_biasa = -1       # Range [40, 60]\r\n",
    "        self.pelayanan_jelek = -1       # Range [1, 20]\r\n",
    "        \r\n",
    "        # Inferensi (Fuzzy Output)\r\n",
    "        self.bagus = []                 # Masukkan Semua Nilai Yang Mungkin untuk Bagus\r\n",
    "        self.buruk = []                 # Masukkan Semua Nilai Yang Mungkin untuk Buruk\r\n",
    "        self.bagus_akhir = 0            # Nilai Terkecil dari list Bagus\r\n",
    "        self.buruk_akhir = 0            # Nilai Terkecil dari list Buruk\r\n",
    "        \r\n",
    "        # Defuzzifikasi (Crisp Input)\r\n",
    "        self.nilai_akhir = 0\r\n",
    "        \r\n",
    "    def tampilData(self):\r\n",
    "        print('id restoran: {} \\n nilai pelayanan: {} \\n nilai makanan: {} \\n nilai akhir: {} \\n   makanan_enak: {} \\n   makanan_tidakenak: {} \\n   pelayanan_baik: {} \\n   pelayanan_biasa: {} \\n   pelayanan_jelek: {} \\n   persentase bagus: {} \\n   persentase buruk: {}'.format(self.id_restoran, self.pelayanan, self.makanan, self.nilai_akhir, self.makanan_enak, self.makanan_tidakenak, self.pelayanan_baik, self.pelayanan_biasa, self.pelayanan_jelek, self.bagus_akhir, self.buruk_akhir))\r\n",
    "        \r\n",
    "\r\n",
    "\r\n",
    "for i in range(len(df)):\r\n",
    "    restoran_temp = restoran()\r\n",
    "    restoran_temp.id_restoran = df.iloc[i][0]\r\n",
    "    restoran_temp.pelayanan = df.iloc[i][1]\r\n",
    "    restoran_temp.makanan = df.iloc[i][2]\r\n",
    "    restoran_data.append(restoran_temp)\r\n",
    "    \r\n",
    "        "
   ]
  },
  {
   "cell_type": "markdown",
   "metadata": {},
   "source": [
    "# Pengklasifikasian Crisp Input dan nilai μ serta melakukan Fuzzifikasi\r\n",
    "Kualitas pelayanan dapat dibagi menjadi\r\n",
    "- Baik  \r\n",
    "- Biasa  \r\n",
    "- Jelek   \r\n",
    "\r\n",
    "Kualitas Makanan\r\n",
    "- Enak  \r\n",
    "- Tidak Enak  \r\n",
    "\r\n",
    "Penilaian Restoran\r\n",
    "- Bagus\r\n",
    "- Buruk\r\n",
    "\r\n",
    "Dimana kedua hal tersebut memiliki Fungsi Keanggotaan yang sama yaitu trapesium.  \r\n",
    "Dengan nilai crisp tersebut kami membuat gambaran nilai μ yang akan kami buat seperti pada gambar di bawah:  \r\n",
    "Nanti Diperbaikin lagi :v   \r\n",
    "![μ Makanan](https://media.discordapp.net/attachments/527433841690804224/833354183208992808/unknown.png)\r\n",
    "![μ Pelayanan](https://media.discordapp.net/attachments/527433841690804224/833354894361493544/unknown.png)\r\n",
    "\r\n",
    "Sehingga akan menghailkan nilai hasil dari fuzzifikasi (fuzzi input)"
   ]
  },
  {
   "cell_type": "code",
   "execution_count": 44,
   "metadata": {},
   "outputs": [],
   "source": [
    "\r\n",
    "# masukkan kode untuk melakukan fuzzifikasi hingga menghasilkan nilai fuzzi input\r\n",
    "def fuzzifikasi(restoran_temp):\r\n",
    "    for i in range (len(restoran_temp)):\r\n",
    "        if restoran_temp[i].pelayanan >= 0 and restoran_temp[i].pelayanan <= 20:\r\n",
    "            restoran_temp[i].pelayanan_jelek = 1\r\n",
    "        elif restoran_temp[i].pelayanan > 20 and restoran_temp[i].pelayanan < 40:\r\n",
    "            restoran_temp[i].pelayanan_jelek = -(restoran_temp[i].pelayanan - 40)/(40 - 20)\r\n",
    "            restoran_temp[i].pelayanan_biasa = (restoran_temp[i].pelayanan - 20)/(40 - 20)\r\n",
    "        elif restoran_temp[i].pelayanan >= 40 and restoran_temp[i].pelayanan <= 60:\r\n",
    "            restoran_temp[i].pelayanan_biasa = 1\r\n",
    "        elif restoran_temp[i].pelayanan > 60 and restoran_temp[i].pelayanan < 90:\r\n",
    "            restoran_temp[i].pelayanan_biasa = -(restoran_temp[i].pelayanan - 90)/(90 - 60)\r\n",
    "            restoran_temp[i].pelayanan_baik = (restoran_temp[i].pelayanan - 60)/(90 - 60)\r\n",
    "        elif restoran_temp[i].pelayanan >= 90 and restoran_temp[i].pelayanan <= 100:\r\n",
    "            restoran_temp[i].pelayanan_baik = 1\r\n",
    "\r\n",
    "        if restoran_temp[i].makanan >= 0 and restoran_temp[i].makanan <= 4:\r\n",
    "            restoran_temp[i].makanan_tidakenak = 1\r\n",
    "        elif restoran_temp[i].makanan > 4 and restoran_temp[i].makanan < 7:\r\n",
    "            restoran_temp[i].makanan_tidakenak = -(restoran_temp[i].makanan - 7)/(7 - 4)\r\n",
    "            restoran_temp[i].makanan_enak = (restoran_temp[i].makanan - 4)/(7 - 4)\r\n",
    "        elif restoran_temp[i].makanan >= 7 and restoran_temp[i].makanan <= 10:\r\n",
    "            restoran_temp[i].makanan_enak = 1\r\n",
    "            \r\n",
    "    return restoran_temp \r\n",
    "\r\n",
    "restoran_data = fuzzifikasi(restoran_data)\r\n",
    "\r\n",
    "# for i in range(len(restoran_data)):\r\n",
    "#     restoran_data[i].tampilData()"
   ]
  },
  {
   "cell_type": "markdown",
   "metadata": {},
   "source": [
    "# Nilai Inferensi\r\n",
    "Untuk menghasilkan fuzzy output, kita harus melakukan terlebih dahulu Inferensi berdasarkan aturan-aturan yang sudah di atur.\r\n",
    "Aturan tersebut dapat dilihat seperti di bawah:  \r\n",
    "\r\n",
    "| Makanan \\ Pelayanan | Jelek | Biasa | Baik  |\r\n",
    "|-------------------|-------|-------|-------|\r\n",
    "| Tidak Enak        | Buruk | Buruk | Buruk |\r\n",
    "| Enak              | Buruk | Bagus | Bagus | "
   ]
  },
  {
   "cell_type": "code",
   "execution_count": 45,
   "metadata": {},
   "outputs": [],
   "source": [
    "# masukkan kdoe untuk melakukan inferensi berdasarkan aturan-aturan yang sudah di buat sehingga menghasilkan nilai fuzzy output\r\n",
    "def inferensi(restoran_temp):\r\n",
    "    for i in range  (len(restoran_temp)):\r\n",
    "      if restoran_temp[i].makanan_tidakenak != -1:\r\n",
    "          if restoran_temp[i].pelayanan_jelek != -1:\r\n",
    "              restoran_temp[i].buruk.append(min(restoran_temp[i].makanan_tidakenak,restoran_temp[i].pelayanan_jelek))\r\n",
    "          if restoran_temp[i].pelayanan_biasa != -1:\r\n",
    "              restoran_temp[i].buruk.append(min(restoran_temp[i].makanan_tidakenak,restoran_temp[i].pelayanan_biasa))\r\n",
    "          if restoran_temp[i].pelayanan_baik != -1:\r\n",
    "              restoran_temp[i].buruk.append(min(restoran_temp[i].makanan_tidakenak, restoran_temp[i].pelayanan_baik))\r\n",
    "      if restoran_temp[i].makanan_enak != -1:\r\n",
    "          if restoran_temp[i].pelayanan_jelek != -1:\r\n",
    "              restoran_temp[i].buruk.append(min(restoran_temp[i].makanan_enak,restoran_temp[i].pelayanan_jelek))\r\n",
    "          if restoran_temp[i].pelayanan_biasa != -1:\r\n",
    "              restoran_temp[i].bagus.append(min(restoran_temp[i].makanan_enak,restoran_temp[i].pelayanan_biasa))\r\n",
    "          if restoran_temp[i].pelayanan_baik != -1:\r\n",
    "              restoran_temp[i].bagus.append(min(restoran_temp[i].makanan_enak, restoran_temp[i].pelayanan_baik))\r\n",
    "      \r\n",
    "      if len(restoran_temp[i].bagus) != 0:\r\n",
    "          restoran_temp[i].bagus_akhir = max(restoran_temp[i].bagus)\r\n",
    "          \r\n",
    "      if len(restoran_temp[i].buruk) != 0:\r\n",
    "          restoran_temp[i].buruk_akhir = max(restoran_temp[i].buruk)\r\n",
    "      \r\n",
    "    return restoran_temp\r\n",
    "\r\n",
    "\r\n",
    "restoran_data = inferensi(restoran_data)\r\n",
    "\r\n",
    "# for i in range(len(restoran_data)):\r\n",
    "#     restoran_data[i].tampilData()\r\n"
   ]
  },
  {
   "cell_type": "markdown",
   "metadata": {},
   "source": [
    "# Defuzzifikasi\r\n",
    "Berdasrkan nilai yang didapat dari nilai inferensi sebelumnya, kita harus melakukan defuzzifikasi sehingga mendaptkan nilai yang diinginkan.  \r\n",
    "Dengan berdasarkan μ, kita mendapatkan nilai bilangan real dari 1 hingga 100.  \r\n",
    "![μ Defuzzifikasi](https://media.discordapp.net/attachments/527433841690804224/833355247853895730/unknown.png)"
   ]
  },
  {
   "cell_type": "code",
   "execution_count": 46,
   "metadata": {},
   "outputs": [],
   "source": [
    "# Masukkan kode defuzzifikasi sehingga mendapatkan nilai real\r\n",
    "# import random as rand\r\n",
    "\r\n",
    "\r\n",
    "# random_rest = []\r\n",
    "\r\n",
    "# def generateRandomNilaiBagusBuruk(lst: list, jum: int):\r\n",
    "#     for i in range(jum): \r\n",
    "#         restor = restoran()\r\n",
    "#         restor.bagus_akhir = 1\r\n",
    "#         restor.buruk_akhir = 0\r\n",
    "#         lst.append(restor)\r\n",
    "        \r\n",
    "# generateRandomNilaiBagusBuruk(random_rest, 1)\r\n",
    "\r\n",
    "u_nilai_akhir = {\r\n",
    "    \"batas_bawah\" : 1,\r\n",
    "    \"buruk_c\" : 40,\r\n",
    "    \"buruk_d\" : 80,\r\n",
    "    \"bagus_a\" : 40,\r\n",
    "    \"bagus_b\" : 80,\r\n",
    "    \"batas_atas\": 100\r\n",
    "}\r\n",
    "\r\n",
    "def defuzzifikasi(sample: int, rest: restoran, parm: dict) -> restoran:\r\n",
    "    pembilang = 0\r\n",
    "    penyebut = 0\r\n",
    "    increment = 100 // sample\r\n",
    "    for i in (range(sample-0)):\r\n",
    "        bilangan = (i+1) * increment\r\n",
    "        # print(bilangan)\r\n",
    "        if bilangan <= parm['buruk_c']:                    #Pengecekkan jika berada dari titik buruk_c ke bawah\r\n",
    "            pembilang += bilangan*rest.buruk_akhir\r\n",
    "            penyebut += rest.buruk_akhir\r\n",
    "        elif bilangan >= parm['bagus_b']:                  #Pengecekkan jika berada dari titik bagus_b ke atas\r\n",
    "            pembilang += bilangan*rest.bagus_akhir\r\n",
    "            penyebut += rest.bagus_akhir\r\n",
    "        else:                                           #Pengecekkan jika berada di antara / transisi\r\n",
    "            nilai_asli_buruk = -(bilangan - parm['buruk_d']) / (parm['buruk_d'] - parm['buruk_c'])\r\n",
    "            nilai_asli_bagus = (bilangan - parm['bagus_a']) / (parm['bagus_b'] - parm['bagus_a'])\r\n",
    "            \r\n",
    "            # print('nilai_asli_buruk: ', nilai_asli_buruk)\r\n",
    "            # print('nilai_asli_bagus: ', nilai_asli_bagus)\r\n",
    "            \r\n",
    "            nilai_terkecil_buruk = min([nilai_asli_buruk, rest.buruk_akhir])\r\n",
    "            nilai_terkecil_bagus = min([nilai_asli_bagus, rest.bagus_akhir])\r\n",
    "            \r\n",
    "            # print('nilai_terkecil_buruk: ', nilai_terkecil_buruk)\r\n",
    "            # print('nilai_terkecil_bagus: ', nilai_terkecil_bagus)\r\n",
    "            \r\n",
    "            nilai_max = max([nilai_terkecil_buruk, nilai_terkecil_bagus])\r\n",
    "            \r\n",
    "            # print('max: ', nilai_max)\r\n",
    "            \r\n",
    "            pembilang += bilangan*nilai_max\r\n",
    "            penyebut += nilai_max\r\n",
    "        # print(pembilang, '/', penyebut)\r\n",
    "    rest.nilai_akhir = pembilang // penyebut\r\n",
    "    \r\n",
    "    return rest\r\n",
    "\r\n",
    "for i in range(len(restoran_data)):\r\n",
    "    restoran_data[i] = defuzzifikasi(20, restoran_data[i], u_nilai_akhir)\r\n",
    "    \r\n",
    "# for i in range(len(restoran_data)):\r\n",
    "#     restoran_data[i].tampilData()\r\n",
    "    \r\n",
    "\r\n"
   ]
  },
  {
   "cell_type": "markdown",
   "metadata": {},
   "source": [
    "# Ranking dan Output\r\n",
    "Berdasarkan nilai-nilai yang didapakan dari defuzzifikasi, kita dapat melakukan rangking untuk 10 besar restoran terbaik"
   ]
  },
  {
   "cell_type": "code",
   "execution_count": 52,
   "metadata": {},
   "outputs": [
    {
     "name": "stderr",
     "output_type": "stream",
     "text": [
      "<ipython-input-52-d4bd329ca857>:19: FutureWarning: As the xlwt package is no longer maintained, the xlwt engine will be removed in a future version of pandas. This is the only engine in pandas that supports writing in the xls format. Install openpyxl and write to an xlsx file instead. You can set the option io.excel.xls.writer to 'xlwt' to silence this warning. While this option is deprecated and will also raise a warning, it can be globally set and the warning suppressed.\n",
      "  df_akhir.to_excel('peringkat.xls', encoding='xlwt')\n"
     ]
    },
    {
     "data": {
      "text/html": "<div>\n<style scoped>\n    .dataframe tbody tr th:only-of-type {\n        vertical-align: middle;\n    }\n\n    .dataframe tbody tr th {\n        vertical-align: top;\n    }\n\n    .dataframe thead th {\n        text-align: right;\n    }\n</style>\n<table border=\"1\" class=\"dataframe\">\n  <thead>\n    <tr style=\"text-align: right;\">\n      <th></th>\n      <th>id</th>\n      <th>nilai_akhir</th>\n    </tr>\n  </thead>\n  <tbody>\n    <tr>\n      <th>0</th>\n      <td>1</td>\n      <td>79.0</td>\n    </tr>\n    <tr>\n      <th>1</th>\n      <td>6</td>\n      <td>79.0</td>\n    </tr>\n    <tr>\n      <th>2</th>\n      <td>7</td>\n      <td>79.0</td>\n    </tr>\n    <tr>\n      <th>3</th>\n      <td>20</td>\n      <td>79.0</td>\n    </tr>\n    <tr>\n      <th>4</th>\n      <td>24</td>\n      <td>79.0</td>\n    </tr>\n  </tbody>\n</table>\n</div>",
      "text/plain": "   id  nilai_akhir\n0   1         79.0\n1   6         79.0\n2   7         79.0\n3  20         79.0\n4  24         79.0"
     },
     "execution_count": 52,
     "metadata": {},
     "output_type": "execute_result"
    }
   ],
   "source": [
    "# Masukkan kode untuk me-rank dan membuat output file\r\n",
    "# Sorting berdasarkan nilai akhir\r\n",
    "def NilaiAkhirSort(restoran_temp: [restoran()]):\r\n",
    "        restoran_temp = sorted(restoran_temp, key=lambda x: x.nilai_akhir, reverse= 1)\r\n",
    "    \r\n",
    "        return restoran_temp\r\n",
    "    \r\n",
    "restoran_data = NilaiAkhirSort(restoran_data)\r\n",
    "\r\n",
    "data_akhir = []\r\n",
    "for i in range(10):\r\n",
    "        data_temp = []\r\n",
    "        data_temp.append(restoran_data[i].id_restoran)\r\n",
    "        data_temp.append(restoran_data[i].nilai_akhir)\r\n",
    "        data_akhir.append(data_temp)\r\n",
    "        \r\n",
    "df_akhir = pd.DataFrame(data_akhir, columns=['id', 'nilai_akhir'])\r\n",
    "\r\n",
    "df_akhir.to_excel('peringkat.xls', encoding='xlwt')\r\n",
    "\r\n",
    "df_akhir.head()\r\n",
    "# for i in range(len(restoran_data)):\r\n",
    "#     restoran_data[i].tampilData()"
   ]
  },
  {
   "cell_type": "markdown",
   "metadata": {},
   "source": [
    "# Referensi dan Tools\r\n",
    "https://www.tablesgenerator.com/markdown_tables"
   ]
  }
 ],
 "metadata": {
  "kernelspec": {
   "display_name": "Python 3.9.2 64-bit",
   "name": "python392jvsc74a57bd0ac59ebe37160ed0dfa835113d9b8498d9f09ceb179beaac4002f036b9467c963"
  },
  "language_info": {
   "codemirror_mode": {
    "name": "ipython",
    "version": 3
   },
   "file_extension": ".py",
   "mimetype": "text/x-python",
   "name": "python",
   "nbconvert_exporter": "python",
   "pygments_lexer": "ipython3",
   "version": "3.9.2"
  },
  "metadata": {
   "interpreter": {
    "hash": "ac59ebe37160ed0dfa835113d9b8498d9f09ceb179beaac4002f036b9467c963"
   }
  },
  "orig_nbformat": 2
 },
 "nbformat": 4,
 "nbformat_minor": 2
}