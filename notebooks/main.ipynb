{
 "cells": [
  {
   "cell_type": "markdown",
   "metadata": {},
   "source": [
    "# AI_Tupro2\n",
    "Kaenova Mahendra Auditama<sup>1</sup><br>\n",
    "Adhe Akram Azhari<sup>2</sup><br>\n",
    "Elita Aurora Az Zahra<sup>3</sup><br>\n",
    "<sup>1</sup><a href=\"kaenova@student.telkomuniversity.ac.id\">kaenova@student.telkomuniversity.ac.id</a><br>\n",
    "<sup>2</sup><a href=\"adheakramazhari@student.telkomuniversity.ac.id\">adheakramazhari@student.telkomuniversity.ac.id</a><br>\n",
    "<sup>3</sup><a href=\"elitaaurora@student.telkomuniversity.ac.id\">elitaaurora@student.telkomuniversity.ac.id</a><br>\n",
    "Informatics Engineering, Telkom University, Indonesia<br>\n",
    "2021\n",
    "\n",
    "Proyek ini merupakan proyek kedua dari Mata Kuliah Pengantar Kecerdasan Buatan dari 3 proyek yang akan di buat. Proyek kedua ini mengimplementasikan teknik reasoning dalam Kecerdasan Buatan dengan Fuzzy Logic. Pada tugas ini, kami diminta untuk membuat suatu algoritma dimana akan memeringkatkan 10 restoran terbaik dari 100 restoran berdasarkan penilaian makanan dan pelayanan dari restoran tersebut. Dengan data-data tersebut kami diminta untuk menerapkan algoritma Fuzzy Logic."
   ]
  },
  {
   "cell_type": "markdown",
   "metadata": {},
   "source": [
    "# Import Libararies and Data"
   ]
  },
  {
   "cell_type": "markdown",
   "metadata": {},
   "source": [
    "Disini kami menggunakan <b>pandas</b> untuk input/output dari data yang diminta, selain itu juga kami membutuhkan <b>matplotlib.pyplot</b> untuk membuat gambar fungsi keanggotaan. Kami menggunakan fungsi read_excel() untuk memasukkan data dari tugas kami dan memasukkannya ke dalam kelas restoran yang telah kami buat."
   ]
  },
  {
   "cell_type": "code",
   "execution_count": 1,
   "metadata": {},
   "outputs": [
    {
     "data": {
      "text/html": [
       "<div>\n",
       "<style scoped>\n",
       "    .dataframe tbody tr th:only-of-type {\n",
       "        vertical-align: middle;\n",
       "    }\n",
       "\n",
       "    .dataframe tbody tr th {\n",
       "        vertical-align: top;\n",
       "    }\n",
       "\n",
       "    .dataframe thead th {\n",
       "        text-align: right;\n",
       "    }\n",
       "</style>\n",
       "<table border=\"1\" class=\"dataframe\">\n",
       "  <thead>\n",
       "    <tr style=\"text-align: right;\">\n",
       "      <th></th>\n",
       "      <th>id</th>\n",
       "      <th>pelayanan</th>\n",
       "      <th>makanan</th>\n",
       "    </tr>\n",
       "  </thead>\n",
       "  <tbody>\n",
       "    <tr>\n",
       "      <th>0</th>\n",
       "      <td>1</td>\n",
       "      <td>58</td>\n",
       "      <td>7</td>\n",
       "    </tr>\n",
       "    <tr>\n",
       "      <th>1</th>\n",
       "      <td>2</td>\n",
       "      <td>54</td>\n",
       "      <td>1</td>\n",
       "    </tr>\n",
       "    <tr>\n",
       "      <th>2</th>\n",
       "      <td>3</td>\n",
       "      <td>98</td>\n",
       "      <td>2</td>\n",
       "    </tr>\n",
       "    <tr>\n",
       "      <th>3</th>\n",
       "      <td>4</td>\n",
       "      <td>52</td>\n",
       "      <td>4</td>\n",
       "    </tr>\n",
       "    <tr>\n",
       "      <th>4</th>\n",
       "      <td>5</td>\n",
       "      <td>11</td>\n",
       "      <td>4</td>\n",
       "    </tr>\n",
       "  </tbody>\n",
       "</table>\n",
       "</div>"
      ],
      "text/plain": [
       "   id  pelayanan  makanan\n",
       "0   1         58        7\n",
       "1   2         54        1\n",
       "2   3         98        2\n",
       "3   4         52        4\n",
       "4   5         11        4"
      ]
     },
     "execution_count": 1,
     "metadata": {},
     "output_type": "execute_result"
    }
   ],
   "source": [
    "import pandas as pd\n",
    "import matplotlib.pyplot as plt\n",
    "\n",
    "df = pd.read_excel('../data/raw/restoran.xlsx')\n",
    "df.head()"
   ]
  },
  {
   "cell_type": "code",
   "execution_count": 2,
   "metadata": {},
   "outputs": [],
   "source": [
    "class restoran:\n",
    "    def __init__(self):\n",
    "        self.id_restoran = 0\n",
    "        self.pelayanan = 0\n",
    "        self.makanan = 0\n",
    "        \n",
    "        # Fuzzifikasi (Fuzzy Input)\n",
    "        self.makanan_enak = -1          # Range [7, 10]\n",
    "        self.makanan_tidakenak = -1     # Range [1, 4]\n",
    "        \n",
    "        self.pelayanan_baik = -1        # Range [90, 100]\n",
    "        self.pelayanan_biasa = -1       # Range [40, 60]\n",
    "        self.pelayanan_jelek = -1       # Range [1, 20]\n",
    "        \n",
    "        # Inferensi (Fuzzy Output)\n",
    "        self.bagus = []                 # Masukkan Semua Nilai Yang Mungkin untuk Bagus\n",
    "        self.buruk = []                 # Masukkan Semua Nilai Yang Mungkin untuk Buruk\n",
    "        self.bagus_akhir = 0            # Nilai Terkecil dari list Bagus\n",
    "        self.buruk_akhir = 0            # Nilai Terkecil dari list Buruk\n",
    "        \n",
    "        # Defuzzifikasi (Crisp Input)\n",
    "        self.nilai_akhir = 0\n",
    "        \n",
    "    def tampilData(self):\n",
    "        print('id restoran: {} \\n nilai pelayanan: {} \\n nilai makanan: {} \\n nilai akhir: {} \\n   makanan_enak: {} \\n   makanan_tidakenak: {} \\n   pelayanan_baik: {} \\n   pelayanan_biasa: {} \\n   pelayanan_jelek: {} \\n   persentase bagus: {} \\n   persentase buruk: {}'.format(self.id_restoran, self.pelayanan, self.makanan, self.nilai_akhir, self.makanan_enak, self.makanan_tidakenak, self.pelayanan_baik, self.pelayanan_biasa, self.pelayanan_jelek, self.bagus_akhir, self.buruk_akhir))\n",
    "\n",
    "        \n",
    "restoran_data  = []\n",
    "\n",
    "#Masukkan data dari dataframe ke dalam list restoran data\n",
    "for i in range(len(df)):\n",
    "    restoran_temp = restoran()\n",
    "    restoran_temp.id_restoran = df.iloc[i][0]\n",
    "    restoran_temp.pelayanan = df.iloc[i][1]\n",
    "    restoran_temp.makanan = df.iloc[i][2]\n",
    "    restoran_data.append(restoran_temp)"
   ]
  },
  {
   "cell_type": "markdown",
   "metadata": {},
   "source": [
    "# Pengklasifikasian Crisp Input dan nilai μ serta melakukan Fuzzifikasi\n",
    "Kualitas pelayanan dapat dibagi menjadi\n",
    "- Baik  \n",
    "- Biasa  \n",
    "- Jelek   \n",
    "\n",
    "Kualitas Makanan\n",
    "- Enak  \n",
    "- Tidak Enak  \n",
    "Dimana kedua hal tersebut memiliki Fungsi Keanggotaan yang sama yaitu trapesium.  \n",
    "Dengan nilai crisp tersebut kami membuat gambaran nilai μ yang akan kami buat seperti pada gambar di bawah:  \n",
    "\n",
    "Sehingga akan menghailkan nilai hasil dari fuzzifikasi (fuzzi input)"
   ]
  },
  {
   "cell_type": "code",
   "execution_count": 3,
   "metadata": {},
   "outputs": [
    {
     "data": {
      "image/png": "[encoded data removed]",
      "text/plain": [
       "<Figure size 720x360 with 1 Axes>"
      ]
     },
     "metadata": {
      "needs_background": "light"
     },
     "output_type": "display_data"
    },
    {
     "data": {
      "image/png": "[encoded data removed]",
      "text/plain": [
       "<Figure size 720x360 with 1 Axes>"
      ]
     },
     "metadata": {
      "needs_background": "light"
     },
     "output_type": "display_data"
    }
   ],
   "source": [
    "def GambarPelayanan():\n",
    "    x1 = [0,20,40,100] \n",
    "    y1 = [1,1,0,0] \n",
    "    \n",
    "    x2 = [0,20,40,60,90,100] \n",
    "    y2 = [0,0,1,1,0,0]\n",
    "    \n",
    "    x3 = [0,60,90,100] \n",
    "    y3 = [0,0,1,1]\n",
    "    \n",
    "    plt.figure(figsize=(10,5))\n",
    "    plt.plot(x1, y1,'r-',label = 'Jelek') \n",
    "    plt.plot(x2, y2,'g-',label = 'Biasa') \n",
    "    plt.plot(x3, y3,'b-',label = 'Baik')\n",
    "    plt.xlabel('Nilai Pelayanan')\n",
    "    plt.ylabel('Nilai Keanggotaan')\n",
    "    plt.title('Pelayanan (Dalam Rating)') \n",
    "    plt.legend()\n",
    "    plt.savefig('../reports/figures/fungsi_keanggotaan_pelayanan.jpg', format='jpg', dpi=300)\n",
    "    plt.show()\n",
    "    \n",
    "def GambarMakanan():\n",
    "    x1 = [0,4,7,10] \n",
    "    y1 = [1,1,0,0] \n",
    "    \n",
    "    x2 = [0,4,7,10] \n",
    "    y2 = [0,0,1,1] \n",
    "    \n",
    "    fig = plt.figure(figsize=(10,5))\n",
    "    plt.plot(x1, y1,'r-',label = 'Tidak Enak') \n",
    "    plt.plot(x2, y2,'b-',label = 'Enak')\n",
    "    plt.xlabel('Penilaian Makanan')\n",
    "    plt.ylabel('Nilai Keanggotaan')\n",
    "    plt.title('Makanan (Dalam Rating)') \n",
    "    plt.savefig('../reports/figures/fungsi_keanggotaan_makanan.jpg', format='jpg', dpi=300)\n",
    "    plt.show()\n",
    "    \n",
    "    \n",
    "GambarPelayanan()\n",
    "GambarMakanan()"
   ]
  },
  {
   "cell_type": "code",
   "execution_count": 4,
   "metadata": {},
   "outputs": [],
   "source": [
    "def fuzzifikasi(restoran_temp):\n",
    "    for i in range (len(restoran_temp)):\n",
    "        # Perhitungan pelayanan\n",
    "        if restoran_temp[i].pelayanan >= 1 and restoran_temp[i].pelayanan <= 20:\n",
    "            restoran_temp[i].pelayanan_jelek = 1\n",
    "        elif restoran_temp[i].pelayanan > 20 and restoran_temp[i].pelayanan < 40:\n",
    "            restoran_temp[i].pelayanan_jelek = -(restoran_temp[i].pelayanan - 40)/(40 - 20)\n",
    "            restoran_temp[i].pelayanan_biasa = (restoran_temp[i].pelayanan - 20)/(40 - 20)\n",
    "        elif restoran_temp[i].pelayanan >= 40 and restoran_temp[i].pelayanan <= 60:\n",
    "            restoran_temp[i].pelayanan_biasa = 1\n",
    "        elif restoran_temp[i].pelayanan > 60 and restoran_temp[i].pelayanan < 90:\n",
    "            restoran_temp[i].pelayanan_biasa = -(restoran_temp[i].pelayanan - 90)/(90 - 60)\n",
    "            restoran_temp[i].pelayanan_baik = (restoran_temp[i].pelayanan - 60)/(90 - 60)\n",
    "        elif restoran_temp[i].pelayanan >= 90 and restoran_temp[i].pelayanan <= 100:\n",
    "            restoran_temp[i].pelayanan_baik = 1\n",
    "\n",
    "        if restoran_temp[i].makanan >= 1 and restoran_temp[i].makanan <= 4:\n",
    "            restoran_temp[i].makanan_tidakenak = 1\n",
    "        elif restoran_temp[i].makanan > 4 and restoran_temp[i].makanan < 7:\n",
    "            restoran_temp[i].makanan_tidakenak = -(restoran_temp[i].makanan - 7)/(7 - 4)\n",
    "            restoran_temp[i].makanan_enak = (restoran_temp[i].makanan - 4)/(7 - 4)\n",
    "        elif restoran_temp[i].makanan >= 7 and restoran_temp[i].makanan <= 10:\n",
    "            restoran_temp[i].makanan_enak = 1\n",
    "            \n",
    "    return restoran_temp \n",
    "\n",
    "# Melakukan Fuzzifikasi terhadap restoran_data\n",
    "restoran_data = fuzzifikasi(restoran_data)"
   ]
  },
  {
   "cell_type": "markdown",
   "metadata": {},
   "source": [
    "# Inferensi\n",
    "Untuk menghasilkan fuzzy output, kita harus melakukan terlebih dahulu Inferensi berdasarkan aturan-aturan yang sudah di atur.\n",
    "Aturan tersebut dapat dilihat seperti di bawah:  \n",
    "\n",
    "| Makanan \\ Pelayanan | Jelek | Biasa | Baik  |\n",
    "|-------------------|-------|-------|-------|\n",
    "| Tidak Enak        | Buruk | Buruk | Buruk |\n",
    "| Enak              | Buruk | Bagus | Bagus | "
   ]
  },
  {
   "cell_type": "code",
   "execution_count": 5,
   "metadata": {},
   "outputs": [],
   "source": [
    "def inferensi(restoran_temp):\n",
    "    for i in range  (len(restoran_temp)):\n",
    "      if restoran_temp[i].makanan_tidakenak != -1:\n",
    "          if restoran_temp[i].pelayanan_jelek != -1:\n",
    "              restoran_temp[i].buruk.append(min(restoran_temp[i].makanan_tidakenak,restoran_temp[i].pelayanan_jelek))\n",
    "          if restoran_temp[i].pelayanan_biasa != -1:\n",
    "              restoran_temp[i].buruk.append(min(restoran_temp[i].makanan_tidakenak,restoran_temp[i].pelayanan_biasa))\n",
    "          if restoran_temp[i].pelayanan_baik != -1:\n",
    "              restoran_temp[i].buruk.append(min(restoran_temp[i].makanan_tidakenak, restoran_temp[i].pelayanan_baik))\n",
    "      if restoran_temp[i].makanan_enak != -1:\n",
    "          if restoran_temp[i].pelayanan_jelek != -1:\n",
    "              restoran_temp[i].buruk.append(min(restoran_temp[i].makanan_enak,restoran_temp[i].pelayanan_jelek))\n",
    "          if restoran_temp[i].pelayanan_biasa != -1:\n",
    "              restoran_temp[i].bagus.append(min(restoran_temp[i].makanan_enak,restoran_temp[i].pelayanan_biasa))\n",
    "          if restoran_temp[i].pelayanan_baik != -1:\n",
    "              restoran_temp[i].bagus.append(min(restoran_temp[i].makanan_enak, restoran_temp[i].pelayanan_baik))\n",
    "      \n",
    "      if len(restoran_temp[i].bagus) != 0:\n",
    "          restoran_temp[i].bagus_akhir = max(restoran_temp[i].bagus)\n",
    "          \n",
    "      if len(restoran_temp[i].buruk) != 0:\n",
    "          restoran_temp[i].buruk_akhir = max(restoran_temp[i].buruk)\n",
    "      \n",
    "    return restoran_temp\n",
    "\n",
    "# Melakukan inferensi terhadap restoran_data\n",
    "restoran_data = inferensi(restoran_data)"
   ]
  },
  {
   "cell_type": "markdown",
   "metadata": {},
   "source": [
    "# Defuzzifikasi\n",
    "Berdasrkan nilai yang didapat dari nilai inferensi sebelumnya, kita harus melakukan defuzzifikasi sehingga mendaptkan nilai yang diinginkan.  \n",
    "Dengan berdasarkan μ output, kita mendapatkan nilai bilangan real dari 1 hingga 100.  \n",
    "\n",
    "Penilaian Restoran\n",
    "- Bagus\n",
    "- Buruk\n",
    "\n",
    "Dengan gambar fungsi keanggotaan seperit berikut:  "
   ]
  },
  {
   "cell_type": "code",
   "execution_count": 6,
   "metadata": {},
   "outputs": [
    {
     "data": {
      "image/png": "[encoded data removed]",
      "text/plain": [
       "<Figure size 720x360 with 1 Axes>"
      ]
     },
     "metadata": {
      "needs_background": "light"
     },
     "output_type": "display_data"
    }
   ],
   "source": [
    "def GambarNilaiAkhir():\n",
    "    x1 = [0,40,80,100] \n",
    "    y1 = [1,1,0,0] \n",
    "    \n",
    "    x2 = [0,40,80,100] \n",
    "    y2 = [0,0,1,1] \n",
    "    \n",
    "    plt.figure(figsize=(10,5))\n",
    "    plt.plot(x1, y1,'r-',label = 'Buruk') \n",
    "    plt.plot(x2, y2,'b-',label = 'Bagus')\n",
    "    plt.xlabel('Penilaian Restoran')\n",
    "    plt.ylabel('Nilai Keanggotaan')\n",
    "    plt.title('Rating Akhir') \n",
    "    plt.legend()\n",
    "    plt.savefig('../reports/figures/fungsi_keanggotaan_output.jpg', format='jpg', dpi=300)\n",
    "    plt.show()\n",
    "    \n",
    "    \n",
    "GambarNilaiAkhir()"
   ]
  },
  {
   "cell_type": "code",
   "execution_count": 7,
   "metadata": {},
   "outputs": [],
   "source": [
    "def defuzzifikasi(sample: int, rest: restoran) -> restoran:\n",
    "    #Parameter fungsi keanggotaan output\n",
    "    parm = {\n",
    "        \"batas_bawah\" : 1,\n",
    "        \"buruk_c\" : 40,\n",
    "        \"buruk_d\" : 80,\n",
    "        \"bagus_a\" : 40,\n",
    "        \"bagus_b\" : 80,\n",
    "        \"batas_atas\": 100\n",
    "    }\n",
    "    \n",
    "    pembilang = 0\n",
    "    penyebut = 0\n",
    "    increment = 100 // sample\n",
    "    for i in (range(sample-0)):\n",
    "        bilangan = (i+1) * increment\n",
    "        # print(bilangan)\n",
    "        if bilangan <= parm['buruk_c']:                    #Pengecekkan jika berada dari titik buruk_c ke bawah\n",
    "            pembilang += bilangan*rest.buruk_akhir\n",
    "            penyebut += rest.buruk_akhir\n",
    "        elif bilangan >= parm['bagus_b']:                  #Pengecekkan jika berada dari titik bagus_b ke atas\n",
    "            pembilang += bilangan*rest.bagus_akhir\n",
    "            penyebut += rest.bagus_akhir\n",
    "        else:                                           #Pengecekkan jika berada di antara / transisi\n",
    "            nilai_asli_buruk = -(bilangan - parm['buruk_d']) / (parm['buruk_d'] - parm['buruk_c'])\n",
    "            nilai_asli_bagus = (bilangan - parm['bagus_a']) / (parm['bagus_b'] - parm['bagus_a'])\n",
    "            \n",
    "            nilai_terkecil_buruk = min([nilai_asli_buruk, rest.buruk_akhir])\n",
    "            nilai_terkecil_bagus = min([nilai_asli_bagus, rest.bagus_akhir])\n",
    "            \n",
    "            nilai_max = max([nilai_terkecil_buruk, nilai_terkecil_bagus])\n",
    "            \n",
    "            pembilang += bilangan*nilai_max\n",
    "            penyebut += nilai_max\n",
    "\n",
    "    rest.nilai_akhir = pembilang // penyebut\n",
    "    \n",
    "    return rest\n",
    "\n",
    "# Melakukan defuzzifikasi terhadap data_restoran \n",
    "for i in range(len(restoran_data)):\n",
    "    restoran_data[i] = defuzzifikasi(20, restoran_data[i])"
   ]
  },
  {
   "cell_type": "markdown",
   "metadata": {},
   "source": [
    "# Ranking dan Output\n",
    "Berdasarkan nilai-nilai yang didapakan dari defuzzifikasi, kita dapat melakukan rangking untuk 10 besar restoran terbaik"
   ]
  },
  {
   "cell_type": "code",
   "execution_count": 8,
   "metadata": {},
   "outputs": [
    {
     "name": "stderr",
     "output_type": "stream",
     "text": [
      "<ipython-input-8-a3998520aea5>:22: FutureWarning: As the xlwt package is no longer maintained, the xlwt engine will be removed in a future version of pandas. This is the only engine in pandas that supports writing in the xls format. Install openpyxl and write to an xlsx file instead. You can set the option io.excel.xls.writer to 'xlwt' to silence this warning. While this option is deprecated and will also raise a warning, it can be globally set and the warning suppressed.\n",
      "  df_akhir.to_excel('../data/processed/peringkat.xls', encoding='xlwt')\n"
     ]
    },
    {
     "data": {
      "text/html": [
       "<div>\n",
       "<style scoped>\n",
       "    .dataframe tbody tr th:only-of-type {\n",
       "        vertical-align: middle;\n",
       "    }\n",
       "\n",
       "    .dataframe tbody tr th {\n",
       "        vertical-align: top;\n",
       "    }\n",
       "\n",
       "    .dataframe thead th {\n",
       "        text-align: right;\n",
       "    }\n",
       "</style>\n",
       "<table border=\"1\" class=\"dataframe\">\n",
       "  <thead>\n",
       "    <tr style=\"text-align: right;\">\n",
       "      <th></th>\n",
       "      <th>id</th>\n",
       "      <th>nilai_akhir</th>\n",
       "      <th>pelayanan</th>\n",
       "      <th>makanan</th>\n",
       "    </tr>\n",
       "  </thead>\n",
       "  <tbody>\n",
       "    <tr>\n",
       "      <th>0</th>\n",
       "      <td>1</td>\n",
       "      <td>79.0</td>\n",
       "      <td>58</td>\n",
       "      <td>7</td>\n",
       "    </tr>\n",
       "    <tr>\n",
       "      <th>1</th>\n",
       "      <td>6</td>\n",
       "      <td>79.0</td>\n",
       "      <td>59</td>\n",
       "      <td>10</td>\n",
       "    </tr>\n",
       "    <tr>\n",
       "      <th>2</th>\n",
       "      <td>7</td>\n",
       "      <td>79.0</td>\n",
       "      <td>61</td>\n",
       "      <td>8</td>\n",
       "    </tr>\n",
       "    <tr>\n",
       "      <th>3</th>\n",
       "      <td>20</td>\n",
       "      <td>79.0</td>\n",
       "      <td>49</td>\n",
       "      <td>10</td>\n",
       "    </tr>\n",
       "    <tr>\n",
       "      <th>4</th>\n",
       "      <td>24</td>\n",
       "      <td>79.0</td>\n",
       "      <td>100</td>\n",
       "      <td>9</td>\n",
       "    </tr>\n",
       "    <tr>\n",
       "      <th>5</th>\n",
       "      <td>25</td>\n",
       "      <td>79.0</td>\n",
       "      <td>61</td>\n",
       "      <td>10</td>\n",
       "    </tr>\n",
       "    <tr>\n",
       "      <th>6</th>\n",
       "      <td>27</td>\n",
       "      <td>79.0</td>\n",
       "      <td>59</td>\n",
       "      <td>8</td>\n",
       "    </tr>\n",
       "    <tr>\n",
       "      <th>7</th>\n",
       "      <td>39</td>\n",
       "      <td>79.0</td>\n",
       "      <td>52</td>\n",
       "      <td>7</td>\n",
       "    </tr>\n",
       "    <tr>\n",
       "      <th>8</th>\n",
       "      <td>42</td>\n",
       "      <td>79.0</td>\n",
       "      <td>94</td>\n",
       "      <td>10</td>\n",
       "    </tr>\n",
       "    <tr>\n",
       "      <th>9</th>\n",
       "      <td>51</td>\n",
       "      <td>79.0</td>\n",
       "      <td>48</td>\n",
       "      <td>10</td>\n",
       "    </tr>\n",
       "  </tbody>\n",
       "</table>\n",
       "</div>"
      ],
      "text/plain": [
       "   id  nilai_akhir  pelayanan  makanan\n",
       "0   1         79.0         58        7\n",
       "1   6         79.0         59       10\n",
       "2   7         79.0         61        8\n",
       "3  20         79.0         49       10\n",
       "4  24         79.0        100        9\n",
       "5  25         79.0         61       10\n",
       "6  27         79.0         59        8\n",
       "7  39         79.0         52        7\n",
       "8  42         79.0         94       10\n",
       "9  51         79.0         48       10"
      ]
     },
     "execution_count": 8,
     "metadata": {},
     "output_type": "execute_result"
    }
   ],
   "source": [
    "def NilaiAkhirSort(restoran_temp: [restoran()]):\n",
    "        restoran_temp = sorted(restoran_temp, key=lambda x: x.nilai_akhir, reverse= 1)\n",
    "        return restoran_temp\n",
    "\n",
    "# Melakukan sorting terhadap restoran_data\n",
    "restoran_data = NilaiAkhirSort(restoran_data)\n",
    "\n",
    "# Memasukkan 10 restoran dengan nilai tertinggi ke dalam list data_akhir\n",
    "data_akhir = []\n",
    "for i in range(10):\n",
    "        data_temp = []\n",
    "        data_temp.append(restoran_data[i].id_restoran)\n",
    "        data_temp.append(restoran_data[i].nilai_akhir)\n",
    "        data_temp.append(restoran_data[i].pelayanan)\n",
    "        data_temp.append(restoran_data[i].makanan)\n",
    "        data_akhir.append(data_temp)\n",
    "\n",
    "# Memasukkan list data_akhir ke dalam dataframe df_akhir\n",
    "df_akhir = pd.DataFrame(data_akhir, columns=['id', 'nilai_akhir', 'pelayanan', 'makanan'])\n",
    "\n",
    "# Membuat excel dari dataframe df_akhir\n",
    "df_akhir.to_excel('../data/processed/peringkat.xls', encoding='xlwt')\n",
    "\n",
    "df_akhir"
   ]
  }
 ],
 "metadata": {
  "kernelspec": {
   "display_name": "Python 3",
   "language": "python",
   "name": "python3"
  },
  "language_info": {
   "codemirror_mode": {
    "name": "ipython",
    "version": 3
   },
   "file_extension": ".py",
   "mimetype": "text/x-python",
   "name": "python",
   "nbconvert_exporter": "python",
   "pygments_lexer": "ipython3",
   "version": "3.9.2"
  },
  "metadata": {
   "interpreter": {
    "hash": "ac59ebe37160ed0dfa835113d9b8498d9f09ceb179beaac4002f036b9467c963"
   }
  }
 },
 "nbformat": 4,
 "nbformat_minor": 4
}
